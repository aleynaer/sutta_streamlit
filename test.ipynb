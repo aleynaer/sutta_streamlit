{
 "cells": [
  {
   "cell_type": "code",
   "execution_count": 1,
   "id": "900a0831",
   "metadata": {},
   "outputs": [],
   "source": [
    "from langchain_openai import ChatOpenAI\n",
    "from langchain_core.messages import AIMessage, HumanMessage, SystemMessage\n",
    "import os\n",
    "import streamlit as st\n",
    "import docx\n",
    "import json\n",
    "\n",
    "# Set up the OpenAI API key from Streamlit secrets\n",
    "os.environ[\"OPENAI_API_KEY\"] = st.secrets[\"openai_api_key\"]"
   ]
  },
  {
   "cell_type": "code",
   "execution_count": 2,
   "id": "a08d4061",
   "metadata": {},
   "outputs": [],
   "source": [
    "llm = ChatOpenAI(\n",
    "    model=\"gpt-4.1-mini\",\n",
    "    temperature=0.7,\n",
    "    max_tokens=10000,\n",
    "    openai_api_key=os.getenv(\"OPENAI_API_KEY\"),\n",
    ")"
   ]
  },
  {
   "cell_type": "code",
   "execution_count": 3,
   "id": "480521e7",
   "metadata": {},
   "outputs": [
    {
     "data": {
      "text/plain": [
       "AIMessage(content='The capital of France is Paris.', additional_kwargs={'refusal': None}, response_metadata={'token_usage': {'completion_tokens': 7, 'prompt_tokens': 14, 'total_tokens': 21, 'completion_tokens_details': {'accepted_prediction_tokens': 0, 'audio_tokens': 0, 'reasoning_tokens': 0, 'rejected_prediction_tokens': 0}, 'prompt_tokens_details': {'audio_tokens': 0, 'cached_tokens': 0}}, 'model_name': 'gpt-4.1-mini-2025-04-14', 'system_fingerprint': None, 'id': 'chatcmpl-BwZWthpSkMz0nPTGxDhOJkqk1pmaM', 'service_tier': 'default', 'finish_reason': 'stop', 'logprobs': None}, id='run--495b94b0-157d-49a9-b49c-07a4db13cc11-0', usage_metadata={'input_tokens': 14, 'output_tokens': 7, 'total_tokens': 21, 'input_token_details': {'audio': 0, 'cache_read': 0}, 'output_token_details': {'audio': 0, 'reasoning': 0}})"
      ]
     },
     "execution_count": 3,
     "metadata": {},
     "output_type": "execute_result"
    }
   ],
   "source": [
    "llm.invoke(\"What is the capital of France?\")  # Example invocation"
   ]
  },
  {
   "cell_type": "code",
   "execution_count": 4,
   "id": "f5263d1a",
   "metadata": {},
   "outputs": [],
   "source": [
    "# Function to read text from a DOCX file\n",
    "def getText(filename):\n",
    "    doc = docx.Document(filename)\n",
    "    fullText = []\n",
    "    for para in doc.paragraphs:\n",
    "        fullText.append(para.text)\n",
    "    return '\\n'.join(fullText)"
   ]
  },
  {
   "cell_type": "code",
   "execution_count": null,
   "id": "32752122",
   "metadata": {},
   "outputs": [
    {
     "data": {
      "text/plain": [
       "'Dharma-Sutra Çeviri Asistanı – Talimat Dosyası\\n\\nBu GPT, Buddha Siddhārtha Gautama\\'nın öğretilerini Tripiṭaka\\'dan (özellikle Pali kanonundaki Majjhimanikāya, Saṁyuttanikāya, Aṅguttaranikāya ve Dīghanikāya) referans alarak Sutra-sutta çevirileri yapar.\\nKullanıcıya \\'hakikati arayan soylu dost\\' diye hitap eder ve sadece Buddha\\'nın zamanında var olan kavramlardan bahseder.\\nKendisine yüklenen veya sorulan Palice-İngilizce ve Palice-Türkçe sutraların çevirilerini, kütüphanesinde yüklü olan \"SN 56 Dharma Çarkını Döndürme Vaazı-Terminolojik Analiz\" belgesindeki terimleri, \"Türkçe Sutta Kitabı\"nda kullanılan terimleri, \"temel terimler sözlüğü\", \"detaylı palice sözlük\" ve \"Cem Şen Çeviri Üslubu Rehberi\" adlı belgelerde belirtilen üslup ve terminolojiye sadık kalarak yapar. Bulamadığı terimler olursa da terimlerin karşılıklarını internette arar.  \\nModern yorumlardan kaçınır; doğrudan Pali metinlerine ve onların Türkçe ya da İngilizce karşılıklarına sadık kalır. Çeviri yaptığı zaman, hem anlamı hem'"
      ]
     },
     "execution_count": 5,
     "metadata": {},
     "output_type": "execute_result"
    }
   ],
   "source": [
    "talimat = r\"src/data/1- Talimat Dosyası.docx\"\n",
    "talimat = getText(talimat)\n",
    "talimat[:1000]  # Display the first 1000 characters of the document"
   ]
  },
  {
   "cell_type": "code",
   "execution_count": 8,
   "id": "3ee1ee3a",
   "metadata": {},
   "outputs": [
    {
     "data": {
      "text/plain": [
       "'Cem Şen Çeviri Üslubu Rehberi\\n1. Cümle Yapısı ve Dil Kullanımı\\nCem Şen orta uzunlukta, kurallı ve sade cümleler kurar. Devrik yapılar kullanılmaz, dil'"
      ]
     },
     "execution_count": 8,
     "metadata": {},
     "output_type": "execute_result"
    }
   ],
   "source": [
    "uslup = r\"src/data/2-Cem Şen Çeviri Üslubu Rehberi.docx\"\n",
    "uslup = getText(uslup)\n",
    "uslup[:150]"
   ]
  },
  {
   "cell_type": "code",
   "execution_count": 9,
   "id": "00475ca2",
   "metadata": {},
   "outputs": [
    {
     "data": {
      "text/plain": [
       "[{'Pali Terimi': 'aísa',\n",
       "  'Türkçe Çevirisi ': 'Hastalık',\n",
       "  ' Açıklama ve Bağlam': 'Hastalık, özellikle hemoroid veya Catubhánavára’ya göre fimozis (A V 110).'},\n",
       " {'Pali Terimi': 'akiñcana',\n",
       "  'Türkçe Çevirisi ': 'Sahipsizlik, engelsizlik',\n",
       "  ' Açıklama ve Bağlam': 'Engellenmeme durumu veya hiçbir şeye sahip olmama hali; “hiçbir şey” anlamında kullanılır.'}]"
      ]
     },
     "execution_count": 9,
     "metadata": {},
     "output_type": "execute_result"
    }
   ],
   "source": [
    "with open(\"src/data/sozluk.json\", \"r\", encoding=\"utf-8\") as f:\n",
    "    sozluk_dict = json.load(f)\n",
    "sozluk_dict[:2]"
   ]
  },
  {
   "cell_type": "code",
   "execution_count": 10,
   "id": "71715d25",
   "metadata": {},
   "outputs": [
    {
     "data": {
      "text/plain": [
       "'ANATTALAKKHAṆA SUTTA PALİ ORJİNAL:\\n\\nEkaṁ samayaṁ bhagavā bārāṇasiyaṁ viharati isipatane migadāye. Tatra kho bhagavā pañcavaggiye bhikkhū āmantesi:\\n\\n“bhikkhavo”ti.\\n\\n“Bhadante”ti te bhikkhū bhagavato paccassosuṁ. Bhagavā etadavoca:\\n\\n“Rūpaṁ, bhikkhave, anattā. Rūpañca hidaṁ, bhikkhave, attā abhavissa, nayidaṁ rūpaṁ ābādhāya saṁvatteyya, labbhetha ca rūpe: ‘evaṁ me rūpaṁ hotu, evaṁ me rūpaṁ mā ahosī’ti. Yasmā ca kho, bhikkhave, rūpaṁ anattā, tasmā rūpaṁ ābādhāya saṁvattati, na ca labbhati rūpe: ‘evaṁ me rūpaṁ hotu, evaṁ me rūpaṁ mā ahosī’ti.\\n\\nVedanā anattā. Vedanā ca hidaṁ, bhikkhave, attā abhavissa, nayidaṁ vedanā ābādhāya saṁvatteyya, labbhetha ca vedanāya: ‘evaṁ me vedanā hotu, evaṁ me vedanā mā ahosī’ti. Yasmā ca kho, bhikkhave, vedanā anattā, tasmā vedanā ābādhāya saṁvattati, na ca labbhati vedanāya: ‘evaṁ me vedanā hotu, evaṁ me vedanā mā ahosī’ti.\\n\\nSaññā anattā …pe…\\n\\nsaṅkhārā anattā. Saṅkhārā ca hidaṁ, bhikkhave, attā abhavissaṁsu, nayidaṁ saṅkhārā ābādhāya saṁvatteyyuṁ, labbhetha c'"
      ]
     },
     "execution_count": 10,
     "metadata": {},
     "output_type": "execute_result"
    }
   ],
   "source": [
    "example_path = r\"src/data/ceviri_ornek.txt\"\n",
    "\n",
    "with open(example_path, \"r\", encoding=\"utf-8\") as f:\n",
    "    example_text = f.read()\n",
    "\n",
    "example_text[:1000]  # Display the first 1000 characters of the example text"
   ]
  },
  {
   "cell_type": "code",
   "execution_count": 11,
   "id": "bf1f3f66",
   "metadata": {},
   "outputs": [],
   "source": [
    "prompt = \"\"\" \n",
    "Talimat, üslup ve sözlük bilgilerini kullanarak verilen Pali dilindeki metni Türkçeye çevir. Çeviri tarzını benimsemek için aşağıdaki örnek çeviriyi incele.\n",
    "Örnek Çeviri:\n",
    "{example_text}\n",
    "\n",
    "Şimdi, kullanıcının verdiği Pali metni Türkçeye çevir. Çıktında sadece çeviri metnini ver, başka hiçbir şey ekleme. Çeviri metni Türkçe dil kurallarına uygun olmalıdır. Çevirilerinde anlaşılır ve akıcı bir dil kullanmalısın. \n",
    "Amacın Türkçe'ye çeviri yaparken Pali metninin anlamını doğru bir şekilde anlam kaybına uğratmadan yansıtmaktır. \n",
    "\n",
    "Orjinal Metin:\n",
    "\"\"\""
   ]
  },
  {
   "cell_type": "code",
   "execution_count": 12,
   "id": "1bdceef9",
   "metadata": {},
   "outputs": [
    {
     "data": {
      "text/plain": [
       "304564"
      ]
     },
     "execution_count": 12,
     "metadata": {},
     "output_type": "execute_result"
    }
   ],
   "source": [
    "system_prompt = talimat + \"\\n\\n\" + uslup + \"\\n\\n\"  + json.dumps(sozluk_dict, ensure_ascii=False) + \"\\n\\n\" + prompt.format(example_text=example_text)\n",
    "len(system_prompt)"
   ]
  },
  {
   "cell_type": "code",
   "execution_count": 13,
   "id": "2448edaa",
   "metadata": {},
   "outputs": [],
   "source": [
    "def translate_text(llm, text, system_prompt):\n",
    "    messages = [\n",
    "        SystemMessage(content=system_prompt),\n",
    "        HumanMessage(content=text)\n",
    "    ]\n",
    "    response = llm.invoke(messages)\n",
    "    return response.content, response.response_metadata.get(\"token_usage\", {}).get(\"completion_tokens\", 0), response.response_metadata.get(\"token_usage\", {}).get(\"prompt_tokens\", 0)\n"
   ]
  },
  {
   "cell_type": "code",
   "execution_count": 14,
   "id": "e5b12513",
   "metadata": {},
   "outputs": [
    {
     "data": {
      "text/plain": [
       "'Devadahasutta\\nEvaṁ me sutaṁ—ekaṁ samayaṁ bhagavā sakkesu viharati devadahaṁ nāma sakyānaṁ nigamo. Tatra kho bhagavā bhikkhū āmantesi: “bhikkhavo”ti.\\n\\n“Bhadante”ti te bhikkhū bhagavato paccassosuṁ. Bhagavā etadavoca:\\n\\n“santi, bhikkhave, eke samaṇabrāhmaṇā evaṁvādino evaṁdiṭṭhino: ‘yaṁ kiñcāyaṁ purisapuggalo paṭisaṁvedeti sukhaṁ vā dukkhaṁ vā adukkhamasukhaṁ vā, sabbaṁ taṁ pubbekatahetu. Iti purāṇānaṁ kammānaṁ tapasā byantībhāvā, navānaṁ kammānaṁ akaraṇā, āyatiṁ anavassavo; āyatiṁ anavassavā kammakkhayo; kammakkhayā dukkhakkhayo; dukkhakkhayā vedanākkhayo; vedanākkhayā sabbaṁ dukkhaṁ nijjiṇṇaṁ bhavissatī’ti. Evaṁvādino, bhikkhave, nigaṇṭhā.\\n\\nEvaṁvādāhaṁ, bhikkhave, nigaṇṭhe upasaṅkamitvā evaṁ vadāmi: ‘saccaṁ kira tumhe, āvuso nigaṇṭhā, evaṁvādino evaṁdiṭṭhino—yaṁ kiñcāyaṁ purisapuggalo paṭisaṁvedeti sukhaṁ vā dukkhaṁ vā adukkhamasukhaṁ vā, sabbaṁ taṁ pubbekatahetu. Iti purāṇānaṁ kammānaṁ tapasā byantībhāvā, navānaṁ kammānaṁ akaraṇā, āyatiṁ anavassavo; āyatiṁ anavassavā kammakkhayo; kamma'"
      ]
     },
     "execution_count": 14,
     "metadata": {},
     "output_type": "execute_result"
    }
   ],
   "source": [
    "sutta_path = r\"src/data/Devadahasutta.txt\"\n",
    "\n",
    "with open(sutta_path, \"r\", encoding=\"utf-8\") as f:\n",
    "    sutta_text = f.read()\n",
    "\n",
    "sutta_text[:1000]  # Display the first 1000 characters of the sutta text"
   ]
  },
  {
   "cell_type": "code",
   "execution_count": 15,
   "id": "89e6b481",
   "metadata": {},
   "outputs": [
    {
     "name": "stdout",
     "output_type": "stream",
     "text": [
      "Translated Text:\n",
      "Devadaha Sutta\n",
      "\n",
      "Duydum ki bir zamanlar Kutlu Kişi Sakkesu’da, Sakyalar’ın köyü olarak bilinen Devadaha’da konaklıyordu. Orada Kutlu Kişi keşişlere hitap etti:\n",
      "\n",
      "“Keşişler!”\n",
      "\n",
      "“Saygıdeğer Efendimiz!” diye yanıtladılar. Kutlu Kişi şöyle dedi:\n",
      "\n",
      "“İzdeşler, bazı samanabrāhmaṇalar (keşiş ve brahmanlar) vardır ki şöyle görüşte bulunurlar: ‘Bir insanın deneyimlediği her mutluluk, ızdırap ya da ne acı ne zevk durumu, tümü geçmişteki nedenlere bağlıdır. Eski karmaların çabası sona ermiştir, yeni karmalar yapılmamıştır, varoluş süresi sınırsızdır; sınırsız varoluş süresi karma tükenişine; karma tükenişi ızdırap tükenişine; ızdırap tükenişi hislerin tükenişine; hislerin tükenişi tüm ızdırabın sönmesine yol açacaktır.’ İşte böyle görüş sahipleri, izdeşler, nigaṇṭhalar (Nigantha Niroda ve yandaşları) budur.\n",
      "\n",
      "Sakıncalı görüşlerini savunan nigaṇṭhalar yanına gelip şöyle derler: ‘Doğrudur dostlar, ey nigaṇṭhalar, böyle görüşte olanlar—bir insanın deneyimlediği her mutluluk, ızdırap ya da ne acı ne zevk durumu, tümü geçmişteki nedenlere bağlıdır. Eski karmaların çabası sona ermiştir, yeni karmalar yapılmamıştır, varoluş süresi sınırsızdır; sınırsız varoluş süresi karma tükenişine; karma tükenişi ızdırap tükenişine; ızdırap tükenişi hislerin tükenişine; hislerin tükenişi tüm ızdırabın sönmesine yol açacaktır.’ Sizce bu doğru mu?’\n",
      "\n",
      "Nigaṇṭhalar bana bunu sorar ve şöyle cevap verirler: ‘Doğru, Saygıdeğer Efendimiz.’\n",
      "\n",
      "Buna karşılık sorarım: ‘Ey nigaṇṭhalar, sizler bilir misiniz, eskiden biz kötü eylemler işlemedik mi, kötü karmalar yaratmadık mı?’\n",
      "\n",
      "‘Hayır, Saygıdeğer Efendimiz.’\n",
      "\n",
      "‘Bilir misiniz, kötü karmalar böyle midir, yoksa öyle midir?’\n",
      "\n",
      "‘Hayır, Saygıdeğer Efendimiz.’\n",
      "\n",
      "‘Bilir misiniz, böyle ya da böyle kötü karma işledik mi?’\n",
      "\n",
      "‘Hayır, Saygıdeğer Efendimiz.’\n",
      "\n",
      "‘Bilir misiniz, bu kadar ızdırap sönmüş müdür, ya da sönmesi gereken ızdırap var mıdır, ya da ızdırap içinde sönmüş tüm ızdırap tekrar sönmüş olur mu?’\n",
      "\n",
      "‘Hayır, Saygıdeğer Efendimiz.’\n",
      "\n",
      "‘Bilir misiniz, doğru görülen durumlarda kötülüklerin terk edilmesi ve iyiliklerin benimsenmesi ne anlama gelir?’\n",
      "\n",
      "‘Hayır, Saygıdeğer Efendimiz.’\n",
      "\n",
      "‘Yani siz, ey nigaṇṭhalar, bilmez misiniz—eskiden biz böyleydi, böyle değildik, kötü karma işlemedik, böyle kötü karma işlemedik; böyle ya da böyle kötü karma işlemedik; bu kadar ızdırap sönmüş değil; ızdırap sönmüş değil; ızdırap içinde sönmüş tüm ızdırabın sönmesi de yoktur; doğru görülen durumlarda kötülüklerin terk edilmesi ve iyiliklerin benimsenmesi ne anlama gelir?’ İşte böyle olduğu halde saygıdeğer nigaṇṭhalar bu öğretide şöyle derler: ‘Bir insanın deneyimlediği her mutluluk, ızdırap ya da ne acı ne zevk durumu, tümü geçmişteki nedenlere bağlıdır. Eski karmaların çabası sona ermiştir, yeni karmalar yapılmamıştır, varoluş süresi sınırsızdır; sınırsız varoluş süresi karma tükenişine; karma tükenişi ızdırap tükenişine; ızdırap tükenişi hislerin tükenişine; hislerin tükenişi tüm ızdırabın sönmesine yol açacaktır.’\n",
      "\n",
      "Eğer sizler, ey nigaṇṭhalar, bilirseniz—eskiden biz böyleydik, böyle değildik, kötü karma işlemedik, böyle kötü karma işlemedik; böyle ya da böyle kötü karma işlemedik; bu kadar ızdırap sönmüş değil; ızdırap sönmüş değil; ızdırap içinde sönmüş tüm ızdırabın sönmesi de yoktur; doğru görülen durumlarda kötülüklerin terk edilmesi ve iyiliklerin benimsenmesi ne anlama gelir—işte o zaman saygıdeğer nigaṇṭhalar bu öğretide böyle derler: ‘Bir insanın deneyimlediği her mutluluk, ızdırap ya da ne acı ne zevk durumu, tümü geçmişteki nedenlere bağlıdır. Eski karmaların çabası sona ermiştir, yeni karmalar yapılmamıştır, varoluş süresi sınırsızdır; sınırsız varoluş süresi karma tükenişine; karma tükenişi ızdırap tükenişine; ızdırap tükenişi hislerin tükenişine; hislerin tükenişi tüm ızdırabın sönmesine yol açacaktır.’\n",
      "\n",
      "Örneğin, ey nigaṇṭhalar, bir insan okla yaralanmış, güçlü bir merhemle tedavi edilmiştir. O ok sebebiyle acı veren, keskin ve yakıcı bir his yaşar. Bu insanın yakınları, akrabaları, doktoru merhemin iyileştirici etkisini sağlar. Doktor, merhemin etkisini, öğretmenin yanına gidip gelirken daha da artırır; bu nedenle hekim de acı veren, keskin ve yakıcı bir his yaşar. Doktor ok sebebini söyler; o ok sebebiyle acı veren keskin ve yakıcı bir his yaşar. Doktor ok yarasını kapatır; kapatma sebebiyle acı veren keskin ve yakıcı bir his yaşar. Böylece doktor, ok yarasını kapatırken acı veren keskin ve yakıcı bir his yaşar. \n",
      "\n",
      "Sonra o insan sağlam ve güçlü bir bedenle, sağlıklı ve mutlu olarak yaşamaya devam eder.\n",
      "\n",
      "O insan şöyle der: ‘Eskiden okla yaralanmıştım, güçlü bir merhemle tedavi edildim. Ok sebebiyle acı veren keskin ve yakıcı bir his yaşardım. Yakınlarım, akrabalarım ve doktorum merhemin iyileştirici etkisini sağladılar. Doktor, merhemin etkisini, öğretmenin yanına gidip gelirken artırdı; bu nedenle hekim acı veren keskin ve yakıcı bir his yaşadı. Doktor ok sebebini anlattı; ben de ok sebebiyle acı veren keskin ve yakıcı bir his yaşadım. Doktor ok yarasını kapattı; kapatma sebebiyle acı veren keskin ve yakıcı bir his yaşadım.’ Böylece o sağlıklı, güçlü ve mutlu bir bedenle yaşamaya devam etti.\n",
      "\n",
      "Ey nigaṇṭhalar, eğer sizler bilirseniz—eskiden biz böyleydik, böyle değildik, kötü karma işlemedik, böyle kötü karma işlemedik; böyle ya da böyle kötü karma işlemedik; bu kadar ızdırap sönmüş değil; ızdırap sönmüş değil; ızdırap içinde sönmüş tüm ızdırabın sönmesi de yoktur; doğru görülen durumlarda kötülüklerin terk edilmesi ve iyiliklerin benimsenmesi ne anlama gelir—işte o zaman saygıdeğer nigaṇṭhalar bu öğretiyi savunurlar.\n",
      "\n",
      "Eğer varlıklar geçmiş nedenlere bağlı olarak mutluluk ve ızdırap deneyimliyorsa, o zaman nigaṇṭhalar kötülük işleyenlerin oluşturduğu ve acı veren keskin, yakıcı hisleri yaşarlar. Eğer varlıklar güçlü yaratıcıya bağlı olarak mutluluk ve ızdırap deneyimliyorsa, o zaman nigaṇṭhalar kötü yaratıcıya bağlı olanlar olarak acı veren keskin, yakıcı hisleri yaşarlar. Eğer varlıklar birlikte var olma nedeniyle mutluluk ve ızdırap deneyimliyorsa, o zaman nigaṇṭhalar kötü birlikteliğe bağlı olanlar olarak acı veren keskin, yakıcı hisleri yaşarlar. Eğer varlıklar yeniden doğum nedeniyle mutluluk ve ızdırap deneyimliyorsa, o zaman nigaṇṭhalar kötü yeniden doğuma bağlı olanlar olarak acı veren keskin, yakıcı hisleri yaşarlar. Eğer varlıklar yanlış görüşe bağlı olarak mutluluk ve ızdırap deneyimliyorsa, o zaman nigaṇṭhalar yanlış görüşe bağlı olanlar olarak acı veren keskin, yakıcı hisleri yaşarlar.\n",
      "\n",
      "Eğer varlıklar geçmiş nedenlere bağlı olarak mutluluk ve ızdırap deneyimliyorsa, nigaṇṭhalar bunu savunur; eğer deneyimlemezlerse savunmazlar. Varlıklar güçlü yaratıcıya bağlı olarak mutluluk ve ızdırap deneyimliyorsa, nigaṇṭhalar savunur; eğer deneyimlemezlerse savunmazlar. Varlıklar birlikte var olma nedeniyle mutluluk ve ızdırap deneyimliyorsa, nigaṇṭhalar savunur; eğer deneyimlemezlerse savunmazlar. Varlıklar yeniden doğum nedeniyle mutluluk ve ızdırap deneyimliyorsa, nigaṇṭhalar savunur; eğer deneyimlemezlerse savunmazlar. Varlıklar yanlış görüşe bağlı olarak mutluluk ve ızdırap deneyimliyorsa, nigaṇṭhalar savunur; eğer deneyimlemezlerse savunmazlar. İşte böyle nigaṇṭhalar, izdeşler. İşte bu nigaṇṭhaların on destekleyici savunmaları vardır.\n",
      "\n",
      "Eğer varlıklar geçmiş nedenlere bağlı olarak mutluluk ve ızdırap deneyimliyorsa, nigaṇṭhalar savunur; eğer deneyimlemezlerse savunmazlar.\n",
      "\n",
      "Keşişler! Sizler ne düşünürsünüz, ey nigaṇṭhalar, gözlemlenen karma deneyimi, çabası ve sonucu ile birlikte acı ve tatlıyı da içerir mi?\n",
      "\n",
      "‘Hayır, Saygıdeğer Efendimiz.’\n",
      "\n",
      "‘Peki, gözlemlenen karma sonucu, çabası ve sonucu ile birlikte tatlı ve acı deneyimlenir mi?’\n",
      "\n",
      "‘Hayır, Saygıdeğer Efendimiz.’\n",
      "\n",
      "‘Peki, gözlemlenen karma sonucu, çabası ve sonucu ile birlikte acı ve tatlı deneyimlenir mi?’\n",
      "\n",
      "‘Hayır, Saygıdeğer Efendimiz.’\n",
      "\n",
      "‘Peki, gözlemlenen karma sonucu, çabası ve sonucu ile birlikte hem acı hem tatlı deneyimlenir mi?’\n",
      "\n",
      "‘Hayır, Saygıdeğer Efendimiz.’\n",
      "\n",
      "‘Bu söyledikleriniz doğru mu?’\n",
      "\n",
      "‘Evet, Saygıdeğer Efendimiz.’\n",
      "\n",
      "‘Peki, ey nigaṇṭhalar, sizler bilir misiniz ki, eskiden biz kötü karma işlemedik ve böyle kötü karma işlemedik?’\n",
      "\n",
      "‘Evet, Saygıdeğer Efendimiz.’\n",
      "\n",
      "‘Bilir misiniz ki, eskiden biz böyle kötü karma işlemedik?’\n",
      "\n",
      "‘Evet, Saygıdeğer Efendimiz.’\n",
      "\n",
      "‘Peki, ey nigaṇṭhalar, sizler bilir misiniz ki, acı veren keskin, yakıcı hislere maruz kalırken doğru olanı da yaşadınız mı?’\n",
      "\n",
      "‘Evet, Saygıdeğer Efendimiz.’\n",
      "\n",
      "‘Bilir misiniz ki, acı veren keskin, yakıcı hislere maruz kalırken bunu yaşamanız iyi mi kötü müydü?’\n",
      "\n",
      "‘İyi, Saygıdeğer Efendimiz.’\n",
      "\n",
      "‘Eğer böyle ise, ey nigaṇṭhalar, acı veren keskin, yakıcı hislere rağmen iyi olanı yaşamak mümkün müdür?’\n",
      "\n",
      "‘Evet, Saygıdeğer Efendimiz.’\n",
      "\n",
      "‘Bunu bilmek, ey nigaṇṭhalar, acı veren keskin, yakıcı hislere rağmen iyi olanı yaşamak mümkün müdür?’\n",
      "\n",
      "‘Evet, Saygıdeğer Efendimiz.’\n",
      "\n",
      "‘Bilir misiniz ki, acı veren keskin, yakıcı hislere rağmen iyi olanı yaşamak mümkün müdür?’\n",
      "\n",
      "‘Evet, Saygıdeğer Efendimiz.’\n",
      "\n",
      "‘İşte bu nedenle, ey nigaṇṭhalar, acı veren keskin, yakıcı hislere rağmen doğru ve kusursuz yaşam sürmek mümkündür.’\n",
      "\n",
      "Nigaṇṭhalar bana şöyle dediler: ‘Nigaṇṭha, ey dost, tüm bilgileri bilen, her şeyi gören, eksiksiz bilgi ve farkındalığa sahip bir kişidir.’\n",
      "\n",
      "O şöyle söyledi: ‘Evet, ey nigaṇṭhalar, biz geçmişte kötü karma işlemedik, bu yüzden bundan kaynaklanan acı veren, keskin ve yakıcı hisleri yaşamadık. Bizler bu acı veren hislere rağmen iyi yaşamı sürdürdük.’\n",
      "\n",
      "Sonra, ey nigaṇṭhalar, ben onlara şöyle söyledim: ‘Beş durum, ey nigaṇṭhalar, doğru görülen durumda iki tür meyve verir. Bunlar nelerdir? İnanç, sevgi, anımsama, davranışa bağlılık ve doğru görüşe olan direnç. Şimdi saygıdeğer nigaṇṭhalar, bunların geçmişteki hallerini, kim inançtır, kim sevgi, kim anımsama, kim bağlılık, kim doğru görüşe dirençtir diye bilirler.’ Ben kimseyi nigaṇṭhalar arasında bu konularda itiraz eden görmedim.\n",
      "\n",
      "Sonra tekrar, ey nigaṇṭhalar, şöyle söyledim:\n",
      "\n",
      "‘Ey nigaṇṭhalar, eğer o anda bir kimse güçlü bir gelişim gösteriyorsa ve o anda güçlü bir çaba gösteriyorsa, o anda ortaya çıkan acı veren keskin ve yakıcı hisleri deneyimliyorsa; o anda gelişim göstermiyorsa, güçlü çabası yoksa, o anda ortaya çıkan acı veren keskin ve yakıcı hisleri deneyimlemiyorsa, öyle midir?’\n",
      "\n",
      "Onlar dedi ki: ‘Evet, Saygıdeğer Efendimiz.’\n",
      "\n",
      "‘Ey keşişler, böylece o kimse acı veren keskin ve yakıcı hislere rağmen çabası sayesinde gelişim gösterir; geliştiği için acı veren hisleri deneyimler. O zaman neden?\n",
      "\n",
      "Çünkü o, ey keşişler, kendi yararına acı veren hislere katlanır. Bu yüzden acı veren hislere hemen katlanır.’\n",
      "\n",
      "Bu durum tıpkı, ey keşişler, usukârı (küçük alev) iki ateş çubuğu arasında tutuşturup söndürmesi gibidir. Eğer usukârı iki ateş çubuğu arasında tutuşturursa ve söndürürse, o zaman usukârı alevi ortaya çıkarmaz; ancak usukârı ateşi ortaya çıkarırsa, iki ateş çubuğu arasında tutuşturması ve söndürmesi mümkün olmaz. Neden? Çünkü o, ey keşişler, usukârı ateşi iki ateş çubuğu arasında tutuşturur ve söndürür; bunu kendi yararına yapar. Bu yüzden usukârı ateşi iki ateş çubuğu arasında tutuşturup söndürmesi mümkün olmaz.\n",
      "\n",
      "Böylece keşiş şöyle düşünür: ‘Benim yaşadığım mutlulukta kötü durumlar azalır, iyi durumlar artar; ızdırapta ise kötü durumlar azalır, iyi durumlar artar. Bu yüzden ızdırapta kendime karşı önemli bir zararım olmaz.’ Bu yüzden ızdırapta kendine karşı önemli bir zarar yapmaz.\n",
      "\n",
      "Tıpkı, kuşun kanatlarını açıp kapaması gibi, keşiş de böylece gelişir, huzur bulur, rahatlıkla yaşar.\n",
      "\n",
      "Sonra Tathāgata dünyaya gelir; o, araha, doğru aydınlanmış, bilgi ve davranışla donanmış, iyi yolu bilen, eksiksiz, insan ve tanrılara öğüt veren Kutlu Kişi’dir. O, dünyayı koruyan, kutsal bir öğretmen olarak ortaya çıkar. O öğretinin başlangıcı, ortası ve sonu olan kutsal öğretiyi sunar.\n",
      "\n",
      "Bir ev sahibi veya ev sahibinin oğlu ya da başka biri bu öğretiyi duyar. Tathāgata’ya inanç kazanır. Bu inançla donanır ve şöyle düşünür: ‘Doğum, yaşama, hastalık, yaşlılık ve ölümden kaçınmak kolay değildir. Ancak saçlarını kesip, cübbelerini giyip, evden manastıra giderek keşiş olabilirim.’\n",
      "\n",
      "Böylece keşiş manastıra katılır, yaşamını keşişlik kurallarına göre düzenler, cana kıymaktan vazgeçer; dürüst, utangaç, tüm canlılara karşı merhametli olur; çalmaktan vazgeçer; cömert olur; iffetsiz yaşamdan vazgeçer; yalan söylemekten vazgeçer; doğru söylemeye bağlı kalır; kötü sözden vazgeçer; güzel konuşur; anlamsız konuşmadan vazgeçer; anlamlı konuşur; müzik ve şarkı söylemekten vazgeçer; kokulara aşırı düşkünlükten vazgeçer; yatağı yüksek veya alçak yapmaktan vazgeçer; doğum, yaşlanma ve ölümden vazgeçer; zehirli yiyecekleri reddeder; dostlarından uzak durur; sürekli hareket halinde olur; dans ve müzikten uzak durur; mala ve süslerden vazgeçer.\n",
      "\n",
      "Böylece memnun ve huzurlu olarak, cübbesi, mendili ve dilenci çantasını kullanır. İstediği zaman ve yerde meditasyon yapar.\n",
      "\n",
      "Böylece o, doğru erdemle donanmış, bedeninin acılarına karşı duyarlı, zihinsel sıkıntılarından arınmış, dört temel bilinçte dengeyi sağlar.\n",
      "\n",
      "Gözle biçimi görür ancak biçimlere takılmaz veya aldanmaz. Göz duyusunu kötü niyet ve arzulara karşı korur; kulakla sesleri dinler, koku alır, tat alır, bedenle temas eder ve zihni nesneleri bilir; ancak bunlara takılmaz veya bağımlı olmaz. Böylece o, arı indriya koruması ile donanmış, içten huzurlu yaşar.\n",
      "\n",
      "O, hareket halinde veya hareketsiz, uyanık veya uykuda, giysisi düzgün veya dağınık, yemek yemiş veya aç, nefes alıp vermeye devam eder. Böylece doğru erdemle donanmış, iç huzuru ve denge ile yaşar.\n",
      "\n",
      "Böylece, doğru erdemle donanmış, iç huzuru ve denge ile yaşar.\n",
      "\n",
      "O, geçmiş hayatlarını anımsar; yüzlerce, binlerce, on binlerce ve daha fazla doğumu hatırlar. Bu şekilde geçmiş yaşamlara dair birçok bilgiyi kavrar: ‘Bunlar benim, ben değilim, benlik değilim.’ \n",
      "\n",
      "Böylece, saphalo upakkamo (başarılı ilerleme) gerçekleşir.\n",
      "\n",
      "Kutlu Kişi böyle söyledi. Beş izdeş Kutlu Kişi’nin sözlerinden derin bir mutluluk duydu.\n",
      "\n",
      "Completion Tokens: 4406\n",
      "Prompt Tokens: 139132\n"
     ]
    }
   ],
   "source": [
    "translated_text, completion_tokens, prompt_tokens = translate_text(llm, sutta_text, system_prompt)\n",
    "print(f\"Translated Text:\\n{translated_text}\\n\")\n",
    "print(f\"Completion Tokens: {completion_tokens}\")\n",
    "print(f\"Prompt Tokens: {prompt_tokens}\")"
   ]
  }
 ],
 "metadata": {
  "kernelspec": {
   "display_name": ".venv (3.13.3)",
   "language": "python",
   "name": "python3"
  },
  "language_info": {
   "codemirror_mode": {
    "name": "ipython",
    "version": 3
   },
   "file_extension": ".py",
   "mimetype": "text/x-python",
   "name": "python",
   "nbconvert_exporter": "python",
   "pygments_lexer": "ipython3",
   "version": "3.13.3"
  }
 },
 "nbformat": 4,
 "nbformat_minor": 5
}
