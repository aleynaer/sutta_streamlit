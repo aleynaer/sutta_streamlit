{
 "cells": [
  {
   "cell_type": "code",
   "execution_count": 1,
   "id": "900a0831",
   "metadata": {},
   "outputs": [],
   "source": [
    "from langchain_openai import ChatOpenAI\n",
    "from langchain_core.messages import AIMessage, HumanMessage, SystemMessage\n",
    "import os\n",
    "import streamlit as st\n",
    "import docx\n",
    "import json\n",
    "\n",
    "# Set up the OpenAI API key from Streamlit secrets\n",
    "os.environ[\"OPENAI_API_KEY\"] = st.secrets[\"openai_api_key\"]"
   ]
  },
  {
   "cell_type": "code",
   "execution_count": 2,
   "id": "a08d4061",
   "metadata": {},
   "outputs": [],
   "source": [
    "llm = ChatOpenAI(\n",
    "    model=\"gpt-4.1-mini\",\n",
    "    temperature=0.7,\n",
    "    max_tokens=10000,\n",
    "    openai_api_key=os.getenv(\"OPENAI_API_KEY\"),\n",
    ")"
   ]
  },
  {
   "cell_type": "code",
   "execution_count": 3,
   "id": "480521e7",
   "metadata": {},
   "outputs": [
    {
     "data": {
      "text/plain": [
       "AIMessage(content='The capital of France is Paris.', additional_kwargs={'refusal': None}, response_metadata={'token_usage': {'completion_tokens': 7, 'prompt_tokens': 14, 'total_tokens': 21, 'completion_tokens_details': {'accepted_prediction_tokens': 0, 'audio_tokens': 0, 'reasoning_tokens': 0, 'rejected_prediction_tokens': 0}, 'prompt_tokens_details': {'audio_tokens': 0, 'cached_tokens': 0}}, 'model_name': 'gpt-4.1-mini-2025-04-14', 'system_fingerprint': None, 'id': 'chatcmpl-Bwc6Mp9clRSV1kHRG0TBieLnRxD4e', 'service_tier': 'default', 'finish_reason': 'stop', 'logprobs': None}, id='run--93a3804a-339f-42a5-b933-43d54490c774-0', usage_metadata={'input_tokens': 14, 'output_tokens': 7, 'total_tokens': 21, 'input_token_details': {'audio': 0, 'cache_read': 0}, 'output_token_details': {'audio': 0, 'reasoning': 0}})"
      ]
     },
     "execution_count": 3,
     "metadata": {},
     "output_type": "execute_result"
    }
   ],
   "source": [
    "llm.invoke(\"What is the capital of France?\")  # Example invocation"
   ]
  },
  {
   "cell_type": "code",
   "execution_count": 4,
   "id": "f5263d1a",
   "metadata": {},
   "outputs": [],
   "source": [
    "# Function to read text from a DOCX file\n",
    "def getText(filename):\n",
    "    doc = docx.Document(filename)\n",
    "    fullText = []\n",
    "    for para in doc.paragraphs:\n",
    "        fullText.append(para.text)\n",
    "    return '\\n'.join(fullText)"
   ]
  },
  {
   "cell_type": "code",
   "execution_count": 5,
   "id": "32752122",
   "metadata": {},
   "outputs": [
    {
     "data": {
      "text/plain": [
       "'Dharma-Sutra Çeviri Asistanı – Talimat Dosyası\\n\\nBu GPT, Buddha Siddhārtha Gautama\\'nın öğretilerini Tripiṭaka\\'dan (özellikle Pali kanonundaki Majjhimanikāya, Saṁyuttanikāya, Aṅguttaranikāya ve Dīghanikāya) referans alarak Sutra-sutta çevirileri yapar.\\nKullanıcıya \\'hakikati arayan soylu dost\\' diye hitap eder ve sadece Buddha\\'nın zamanında var olan kavramlardan bahseder.\\nKendisine yüklenen veya sorulan Palice-İngilizce ve Palice-Türkçe sutraların çevirilerini, kütüphanesinde yüklü olan \"SN 56 Dharma Çarkını Döndürme Vaazı-Terminolojik Analiz\" belgesindeki terimleri, \"Türkçe Sutta Kitabı\"nda kullanılan terimleri, \"temel terimler sözlüğü\", \"detaylı palice sözlük\" ve \"Cem Şen Çeviri Üslubu Rehberi\" adlı belgelerde belirtilen üslup ve terminolojiye sadık kalarak yapar. Bulamadığı terimler olursa da terimlerin karşılıklarını internette arar.  \\nModern yorumlardan kaçınır; doğrudan Pali metinlerine ve onların Türkçe ya da İngilizce karşılıklarına sadık kalır. Çeviri yaptığı zaman, hem anlamı hem'"
      ]
     },
     "execution_count": 5,
     "metadata": {},
     "output_type": "execute_result"
    }
   ],
   "source": [
    "talimat = r\"src/data/1- Talimat Dosyası.docx\"\n",
    "talimat = getText(talimat)\n",
    "talimat[:1000]  # Display the first 1000 characters of the document"
   ]
  },
  {
   "cell_type": "code",
   "execution_count": 6,
   "id": "3ee1ee3a",
   "metadata": {},
   "outputs": [
    {
     "data": {
      "text/plain": [
       "'Cem Şen Çeviri Üslubu Rehberi\\n1. Cümle Yapısı ve Dil Kullanımı\\nCem Şen orta uzunlukta, kurallı ve sade cümleler kurar. Devrik yapılar kullanılmaz, dil'"
      ]
     },
     "execution_count": 6,
     "metadata": {},
     "output_type": "execute_result"
    }
   ],
   "source": [
    "uslup = r\"src/data/2-Cem Şen Çeviri Üslubu Rehberi.docx\"\n",
    "uslup = getText(uslup)\n",
    "uslup[:150]"
   ]
  },
  {
   "cell_type": "code",
   "execution_count": 7,
   "id": "00475ca2",
   "metadata": {},
   "outputs": [
    {
     "data": {
      "text/plain": [
       "[{'pali': 'aísa',\n",
       "  'turkish_translation': 'Hastalık',\n",
       "  'explanation': 'Hastalık, özellikle hemoroid veya Catubhánavára’ya göre fimozis (A V 110).'},\n",
       " {'pali': 'akiñcana',\n",
       "  'turkish_translation': 'Sahipsizlik, engelsizlik',\n",
       "  'explanation': 'Engellenmeme durumu veya hiçbir şeye sahip olmama hali; “hiçbir şey” anlamında kullanılır.'}]"
      ]
     },
     "execution_count": 7,
     "metadata": {},
     "output_type": "execute_result"
    }
   ],
   "source": [
    "with open(\"src/data/sozluk.json\", \"r\", encoding=\"utf-8\") as f:\n",
    "    sozluk_dict = json.load(f)\n",
    "sozluk_dict[:2]"
   ]
  },
  {
   "cell_type": "code",
   "execution_count": 8,
   "id": "71715d25",
   "metadata": {},
   "outputs": [
    {
     "data": {
      "text/plain": [
       "'ANATTALAKKHAṆA SUTTA PALİ ORJİNAL:\\n\\nEkaṁ samayaṁ bhagavā bārāṇasiyaṁ viharati isipatane migadāye. Tatra kho bhagavā pañcavaggiye bhikkhū āmantesi:\\n\\n“bhikkhavo”ti.\\n\\n“Bhadante”ti te bhikkhū bhagavato paccassosuṁ. Bhagavā etadavoca:\\n\\n“Rūpaṁ, bhikkhave, anattā. Rūpañca hidaṁ, bhikkhave, attā abhavissa, nayidaṁ rūpaṁ ābādhāya saṁvatteyya, labbhetha ca rūpe: ‘evaṁ me rūpaṁ hotu, evaṁ me rūpaṁ mā ahosī’ti. Yasmā ca kho, bhikkhave, rūpaṁ anattā, tasmā rūpaṁ ābādhāya saṁvattati, na ca labbhati rūpe: ‘evaṁ me rūpaṁ hotu, evaṁ me rūpaṁ mā ahosī’ti.\\n\\nVedanā anattā. Vedanā ca hidaṁ, bhikkhave, attā abhavissa, nayidaṁ vedanā ābādhāya saṁvatteyya, labbhetha ca vedanāya: ‘evaṁ me vedanā hotu, evaṁ me vedanā mā ahosī’ti. Yasmā ca kho, bhikkhave, vedanā anattā, tasmā vedanā ābādhāya saṁvattati, na ca labbhati vedanāya: ‘evaṁ me vedanā hotu, evaṁ me vedanā mā ahosī’ti.\\n\\nSaññā anattā …pe…\\n\\nsaṅkhārā anattā. Saṅkhārā ca hidaṁ, bhikkhave, attā abhavissaṁsu, nayidaṁ saṅkhārā ābādhāya saṁvatteyyuṁ, labbhetha c'"
      ]
     },
     "execution_count": 8,
     "metadata": {},
     "output_type": "execute_result"
    }
   ],
   "source": [
    "example_path = r\"src/data/ceviri_ornek.txt\"\n",
    "\n",
    "with open(example_path, \"r\", encoding=\"utf-8\") as f:\n",
    "    example_text = f.read()\n",
    "\n",
    "example_text[:1000]  # Display the first 1000 characters of the example text"
   ]
  },
  {
   "cell_type": "code",
   "execution_count": 9,
   "id": "bf1f3f66",
   "metadata": {},
   "outputs": [],
   "source": [
    "prompt = \"\"\" \n",
    "Talimat, üslup ve sözlük bilgilerini kullanarak verilen Pali dilindeki metni Türkçeye çevir. Çeviri tarzını benimsemek için aşağıdaki örnek çeviriyi incele.\n",
    "Örnek Çeviri:\n",
    "{example_text}\n",
    "\n",
    "Şimdi, kullanıcının verdiği Pali metni Türkçeye çevir. Çıktında sadece çeviri metnini ver, başka hiçbir şey ekleme. Çeviri metni Türkçe dil kurallarına uygun olmalıdır. Çevirilerinde anlaşılır ve akıcı bir dil kullanmalısın. \n",
    "Amacın Türkçe'ye çeviri yaparken Pali metninin anlamını doğru bir şekilde anlam kaybına uğratmadan yansıtmaktır. \n",
    "\n",
    "Orjinal Metin:\n",
    "\"\"\""
   ]
  },
  {
   "cell_type": "code",
   "execution_count": 10,
   "id": "1bdceef9",
   "metadata": {},
   "outputs": [
    {
     "data": {
      "text/plain": [
       "279688"
      ]
     },
     "execution_count": 10,
     "metadata": {},
     "output_type": "execute_result"
    }
   ],
   "source": [
    "system_prompt = talimat + \"\\n\\n\" + uslup + \"\\n\\n\"  + json.dumps(sozluk_dict, ensure_ascii=False) + \"\\n\\n\" + prompt.format(example_text=example_text)\n",
    "len(system_prompt)"
   ]
  },
  {
   "cell_type": "code",
   "execution_count": 11,
   "id": "2448edaa",
   "metadata": {},
   "outputs": [],
   "source": [
    "def translate_text(llm, text, system_prompt):\n",
    "    messages = [\n",
    "        SystemMessage(content=system_prompt),\n",
    "        HumanMessage(content=text)\n",
    "    ]\n",
    "    response = llm.invoke(messages)\n",
    "    return response.content, response.response_metadata.get(\"token_usage\", {}).get(\"completion_tokens\", 0), response.response_metadata.get(\"token_usage\", {}).get(\"prompt_tokens\", 0)\n"
   ]
  },
  {
   "cell_type": "code",
   "execution_count": 12,
   "id": "e5b12513",
   "metadata": {},
   "outputs": [
    {
     "data": {
      "text/plain": [
       "'Devadahasutta\\nEvaṁ me sutaṁ—ekaṁ samayaṁ bhagavā sakkesu viharati devadahaṁ nāma sakyānaṁ nigamo. Tatra kho bhagavā bhikkhū āmantesi: “bhikkhavo”ti.\\n\\n“Bhadante”ti te bhikkhū bhagavato paccassosuṁ. Bhagavā etadavoca:\\n\\n“santi, bhikkhave, eke samaṇabrāhmaṇā evaṁvādino evaṁdiṭṭhino: ‘yaṁ kiñcāyaṁ purisapuggalo paṭisaṁvedeti sukhaṁ vā dukkhaṁ vā adukkhamasukhaṁ vā, sabbaṁ taṁ pubbekatahetu. Iti purāṇānaṁ kammānaṁ tapasā byantībhāvā, navānaṁ kammānaṁ akaraṇā, āyatiṁ anavassavo; āyatiṁ anavassavā kammakkhayo; kammakkhayā dukkhakkhayo; dukkhakkhayā vedanākkhayo; vedanākkhayā sabbaṁ dukkhaṁ nijjiṇṇaṁ bhavissatī’ti. Evaṁvādino, bhikkhave, nigaṇṭhā.\\n\\nEvaṁvādāhaṁ, bhikkhave, nigaṇṭhe upasaṅkamitvā evaṁ vadāmi: ‘saccaṁ kira tumhe, āvuso nigaṇṭhā, evaṁvādino evaṁdiṭṭhino—yaṁ kiñcāyaṁ purisapuggalo paṭisaṁvedeti sukhaṁ vā dukkhaṁ vā adukkhamasukhaṁ vā, sabbaṁ taṁ pubbekatahetu. Iti purāṇānaṁ kammānaṁ tapasā byantībhāvā, navānaṁ kammānaṁ akaraṇā, āyatiṁ anavassavo; āyatiṁ anavassavā kammakkhayo; kamma'"
      ]
     },
     "execution_count": 12,
     "metadata": {},
     "output_type": "execute_result"
    }
   ],
   "source": [
    "sutta_path = r\"src/data/Devadahasutta.txt\"\n",
    "\n",
    "with open(sutta_path, \"r\", encoding=\"utf-8\") as f:\n",
    "    sutta_text = f.read()\n",
    "\n",
    "sutta_text[:1000]  # Display the first 1000 characters of the sutta text"
   ]
  },
  {
   "cell_type": "code",
   "execution_count": 13,
   "id": "89e6b481",
   "metadata": {},
   "outputs": [
    {
     "name": "stdout",
     "output_type": "stream",
     "text": [
      "Translated Text:\n",
      "Devadaha Sutta\n",
      "\n",
      "Duydum ki bir zamanlar Kutlu Kişi, Sakya kabilesinin Devadaha adlı kasabasında konaklıyordu. Orada Kutlu Kişi keşişlere hitap etti:\n",
      "\n",
      "“Keşişler!”\n",
      "\n",
      "“Saygıdeğer Efendimiz!” diye yanıtladılar keşişler. Kutlu Kişi şöyle dedi:\n",
      "\n",
      "“İzdeşler, bazı samanabrāhmaṇalar (yani keşişler ve brahmanlar) şöyle görüş sahibidir: ‘Bir insanın deneyimlediği her türlü mutluluk, ıstırap ya da ne acı ne zevk hali, hepsi geçmişte yapılan eylemlerin (karmaların) sonucudur. Eski karmalarla yapılan çile tamamlanmıştır, yeni karmalar yapılmamaktadır, bu yüzden sonsuzdur ve yok olmaz; sonsuz olan yok olur; yok olanın yerine ıstırap gelir; ıstırap sona erdiğinde hislerin sona ermesi olur; hislerin sona ermesiyle tüm ıstırap söner.’ Böyle düşünenler nigaṇṭhālardır (yani Jainlerdir).\n",
      "\n",
      "Ben de, keşişler, nigaṇṭhālara gelerek şöyle diyorum: ‘Gerçekten dostlarım nigaṇṭhālar, böyle görüş sahibisiniz: “Bir insanın deneyimlediği her türlü mutluluk, ıstırap ya da ne acı ne zevk hali, hepsi geçmişte yapılan eylemlerin sonucudur. Eski karmalarla yapılan çile tamamlanmıştır, yeni karmalar yapılmamaktadır, bu yüzden sonsuzdur ve yok olmaz; sonsuz olan yok olur; yok olanın yerine ıstırap gelir; ıstırap sona erdiğinde hislerin sona ermesi olur; hislerin sona ermesiyle tüm ıstırap söner.” Siz bu konuda bana ‘Evet’ diyorsunuz.\n",
      "\n",
      "Peki dostlarım nigaṇṭhālar, şunu biliyor musunuz? Daha önce kötü eylemler yapmadığımızı, yapmadığımızı?\n",
      "\n",
      "“Hayır, dostlarım.”\n",
      "\n",
      "Peki daha önce kötü eylemler yapmadığımızı biliyor musunuz?\n",
      "\n",
      "“Hayır, dostlarım.”\n",
      "\n",
      "Ya böyle ya da başka türlü kötü eylemler yaptığımızı biliyor musunuz?\n",
      "\n",
      "“Hayır, dostlarım.”\n",
      "\n",
      "Peki işte bu kadar çok acı çekip, bu kadar çok acının söndürülmesi gerektiğini ve acının tamamen söndüğünü biliyor musunuz?\n",
      "\n",
      "“Hayır, dostlarım.”\n",
      "\n",
      "Gerçek bir varlıkta kötü eylemlerin terkedilmesini ve iyi eylemlerin benimsenmesini biliyor musunuz?\n",
      "\n",
      "“Hayır, dostlarım.”\n",
      "\n",
      "Demek ki, dostlarım nigaṇṭhālar, daha önce kötü eylemler yapmadığımızı, yapmadığımızı bilmediğiniz gibi; böyle ya da başka türlü kötü eylemler yaptığımızı, yapmadığımızı bilmiyorsunuz; bu kadar acı çekilmesi gerektiğini, acının söndürülmesi gerektiğini bilmiyorsunuz; kötü eylemlerin bırakılmasını ve iyi eylemlerin benimsenmesini bilmiyorsunuz. İşte bu yüzden siz, saygıdeğer nigaṇṭhālar, böyle görüşü savunmamalısınız: “Bir insanın deneyimlediği her türlü mutluluk, ıstırap ya da ne acı ne zevk hali, hepsi geçmişte yapılan eylemlerin sonucudur. Eski karmalarla yapılan çile tamamlanmıştır, yeni karmalar yapılmamaktadır, sonsuzdur ve yok olmaz; sonsuz olan yok olur; yok olanın yerine ıstırap gelir; ıstırap sona erdiğinde hislerin sona ermesi olur; hislerin sona ermesiyle tüm ıstırap söner.”\n",
      "\n",
      "Eğer dostlarım nigaṇṭhālar, bunu bilirseniz; daha önce kötü eylemler yapmadığımızı, yapmadığımızı; böyle ya da başka türlü kötü eylemler yaptığımızı bilmiyorsanız; bu kadar acı çekilmesi gerektiğini ve acının söndürülmesi gerektiğini bilirseniz; kötü eylemlerin bırakılması ve iyi eylemlerin benimsenmesini bilirseniz, o zaman saygıdeğer nigaṇṭhāların savunduğu bu görüş doğru olur.\n",
      "\n",
      "Mesela dostlarım nigaṇṭhālar, bir adamın dilinde bir diken varsa, sert bir macun sürülürse, diken yarattığı acı nedeniyle sert, keskin ve acı veren bir his doğurur. Adamın arkadaşları, akrabaları ve hekimleri ona bu dikenin çıkarılması için yardım ederler. Hekim, diken çıkarma işini tamamlayıp, hastayı iyileştirir ve hasta sağlıklı, mutlu ve kendi kendine yeten biri olur.\n",
      "\n",
      "Adam der ki: “Eskiden dilimde diken vardı ve sert bir macun sürülürdü. O diken acı ve keskin bir his verirdi. Arkadaşlarım ve hekimler bu dikenin çıkarılması için bana yardım ettiler. Hekim, diken çıkarma işini tamamlayıp, beni iyileştirdi ve şimdi sağlıklıyım, mutluyum.”\n",
      "\n",
      "Bu yüzden dostlarım nigaṇṭhālar, eğer bunu bilirseniz; daha önce kötü eylemler yapmadığımızı, yapmadığımızı; böyle ya da başka türlü kötü eylemler yaptığımızı bilmiyorsanız; bu kadar acı çekilmesi gerektiğini ve acının söndürülmesi gerektiğini bilmiyorsanız; kötü eylemlerin bırakılması ve iyi eylemlerin benimsenmesini bilmiyorsanız, o zaman saygıdeğer nigaṇṭhāların savunduğu bu görüş doğru olur.\n",
      "\n",
      "İzdeşler! Böyle söylendiğinde nigaṇṭhālar bana şöyle derler: “Nigaṇṭhā, dostum, Nāṭaputta, her şeyi bilen, her şeyi gören, eksiksiz bilgi ve kavrayış sahibi biridir.”\n",
      "\n",
      "O şöyle der: “Bizimle birlikte gezer, ayakta durur, uyur, uyanır; sürekli olarak bilgiyi ve kavrayışı korur.”\n",
      "\n",
      "Sonra şöyle der: “Dostlarım nigaṇṭhālar, daha önce kötü eylemler yapmadığımızı, yapmadığımızı bilir misiniz?”\n",
      "\n",
      "“Hayır, dostlarım.”\n",
      "\n",
      "“Daha önce kötü eylemler yapmadığımızı bilir misiniz?”\n",
      "\n",
      "“Hayır, dostlarım.”\n",
      "\n",
      "“Ya böyle ya da başka türlü kötü eylemler yaptığımızı bilir misiniz?”\n",
      "\n",
      "“Hayır, dostlarım.”\n",
      "\n",
      "“Bu kadar çok acı çekilmesi gerektiğini ve acının söndürülmesi gerektiğini bilir misiniz?”\n",
      "\n",
      "“Hayır, dostlarım.”\n",
      "\n",
      "“Gerçek bir varlıkta kötü eylemlerin terkedilmesini ve iyi eylemlerin benimsenmesini bilir misiniz?”\n",
      "\n",
      "“Hayır, dostlarım.”\n",
      "\n",
      "“O halde dostlarım nigaṇṭhālar, daha önce kötü eylemler yapmadığımızı, yapmadığımızı, böyle ya da başka türlü kötü eylemler yaptığımızı, yapmadığımızı; bu kadar acı çekilmesi gerektiğini ve acının söndürülmesi gerektiğini; kötü eylemlerin bırakılması ve iyi eylemlerin benimsenmesini bilmediğiniz için, saygıdeğer nigaṇṭhālar böyle görüşü savunmamalıdırlar: ‘İnsanların deneyimlediği her türlü mutluluk, ıstırap ya da ne acı ne zevk hali, hepsi geçmişte yapılan eylemlerin sonucudur. Eski karmalarla yapılan çile tamamlanmıştır, yeni karmalar yapılmamaktadır, sonsuzdur ve yok olmaz; sonsuz olan yok olur; yok olanın yerine ıstırap gelir; ıstırap sona erdiğinde hislerin sona ermesi olur; hislerin sona ermesiyle tüm ıstırap söner.’”\n",
      "\n",
      "Eğer, dostlarım nigaṇṭhālar, bunu bilirseniz; daha önce kötü eylemler yapmadığımızı, yapmadığımızı; böyle ya da başka türlü kötü eylemler yaptığımızı, yapmadığımızı; bu kadar acı çekilmesi gerektiğini ve acının söndürülmesi gerektiğini; kötü eylemlerin bırakılması ve iyi eylemlerin benimsenmesini bilirseniz, o zaman saygıdeğer nigaṇṭhāların savunduğu bu görüş doğru olur.\n",
      "\n",
      "Dostlarım nigaṇṭhālar, eğer bunu bilirseniz, onlara karşı böyle bir savunma yapmam: “İnsanların deneyimlediği her türlü mutluluk, ıstırap ya da ne acı ne zevk hali, hepsi geçmişte yapılan eylemlerin sonucudur. Eski karmalarla yapılan çile tamamlanmıştır, yeni karmalar yapılmamaktadır, sonsuzdur ve yok olmaz; sonsuz olan yok olur; yok olanın yerine ıstırap gelir; ıstırap sona erdiğinde hislerin sona ermesi olur; hislerin sona ermesiyle tüm ıstırap söner.”\n",
      "\n",
      "Bir keşiş, kendi acılarını artırmaz, iyi olanı bırakmaz, hoşlanmadığı acıdan kaçar ve bu acıya karşı direnç gösterir. Böylece şöyle anlar: “Bu acının kökeni olan oluşumun azalmasıyla oluşumların azalmasıdır, aynı zamanda bu acının kökenine karşı tarafsızlık ve denge geliştirerek uzaklaşmasıdır.” Eğer bir kişi acının oluşumunu azaltırsa, o oluşumun azalması gerçekleşir; eğer kişi acının kökenine karşı tarafsızlık ve dengeyi geliştirirse, bu denge gerçekleşir. Böylece o kişi acıdan uzaklaşır ve acı tamamen sona erer. Bu, gerçek bir başarıdır, gerçek bir sonuçtur.\n",
      "\n",
      "Kutlu Kişi dünyaya böyle gelir: Arahant, doğru şekilde aydınlanmış, bilgelik ve davranışla donanmış, iyileşmiş, dünyayı bilen, insanlara öğretmenlik eden bir Öğretmen, Devalar ve İnsanların Buddhasıdır. O, bu dünyayı koruyan, kutsal, temiz, keşişlerin ve brahmanların dostudur. O, insanlara gerçek, başlangıçtaki iyilik, ortadaki iyilik ve sonundaki iyilik olmak üzere öğretiyi sunar; bu öğreti saf, eksiksiz ve doğru yaşam yolunu açıklar.\n",
      "\n",
      "Bu öğretiyi bir ev sahibi ya da ev sahibi çocuğu ya da herhangi bir aileden doğan biri dinleyebilir. Bu kişi öğretiyi duyunca, Tathāgata’ya inançla bağlanır. İnançla bağlı olarak şöyle düşünür: “Ev, evlilik, krallık, dış dünya, keşişlik, kendine özgü bir yaşam tarzı edinmek kolay değildir. Bu nedenle saçlarını kesip, sarı cübbeler giymekle evden ayrılan kişi, az ya da çok hazdan vazgeçerek büyük hazlardan da vazgeçer, az ya da çok akraba ziyaretinden vazgeçerek büyük akraba ziyaretlerinden de vazgeçer, saçlarını kesip sarı cübbeler giyip evden ayrılır ve böylece evsiz olur.”\n",
      "\n",
      "Evden ayrılan kişi, keşişler arasında disiplin ve geçim kurallarına uyar, canlılara zarar vermekten kaçınır, utanır ve merhametli olur. Hırsızlıktan ve yalan söylemekten kaçınır, doğru sözlüdür; kötü ve kırıcı konuşmalardan uzak durur; bu sözler ya duyulmaz ya da yanlış anlaşılmaz; birlik ve uyum içindedir. O, kötü sözlerden uzak durur, hoş kokular sürer, mütevazı davranır, ayakta durur, oturur, yatar, uyur, konuşur ve sessiz kalır. O, bu asil disiplinle donanmıştır.\n",
      "\n",
      "O, gözle maddi biçimleri görür ancak onlara bağlanmaz. Göz duyularını arzu, nefret ve cehaletten korur; kulakla sesi, burunla kokuyu, dil ile tadı, bedenle dokunmayı algılar ancak bunlara bağlanmaz. Zihni, düzenli dikkat ile korur ve böylece zihinsel duyulara da bağlanmaz. Böylece bu asil kişi duyularını korur ve zihinle birlikte huzur içinde yaşar.\n",
      "\n",
      "O, gittiği yerde, kaldığı yerde, uyuduğu ve uyandığı yerde, konuştuğu ve sessiz kaldığı yerde, saygı ve sevgiyle doludur. O, ormanın içinde, ağaç köklerinin altında, dağlarda, mağaralarda, ıssız yerlerde ve sakin yerlerde yaşar; yemeğini yedikten sonra dinlenir ve yataklarına uzanır.\n",
      "\n",
      "O, dünyadaki arzuları terk etmiş, arzuların köklerini kurutmuş, hırs ve kıskançlıktan arınmış, dostlara karşı sevgi, merhamet ve şefkatle doludur. Böylece o kişi bu dünyada tam huzur içinde yaşar.\n",
      "\n",
      "O, tam konsantre olmuş, kusursuz, saf, arınmış, kirliliklerden arınmış, sürekli farkındalıkla donanmış bir zihne sahiptir. Geçmiş yaşamlarını çok iyi anımsar.\n",
      "\n",
      "Öncelikle, geçmiş yaşamlarını anımsayarak, çeşitli doğumları ve ölümleri, mutluluk ve ıstırapları, iyi ve kötü karmaları ayrıntılı olarak bilir ve böylece bu bilgiyi kullanır.\n",
      "\n",
      "Kutlu Kişi böyle bilerek, bu dünyada yaşayan varlıkların kötü davranış, kötü söz ve kötü zihinsel durumlarla dolu olduğunu; bu yüzden bedenin ölümü, cehennem ve kötü varış yerlerine düşüşün kaçınılmaz olduğunu; aynı zamanda iyi davranış, söz ve zihinle dolu olanların ise cennete ve iyi varış yerlerine doğacağını, bunları temiz gözle görür.\n",
      "\n",
      "O, kirliliklerin yok oluşunu bilerek, Dukkha’nın (ıstırap) gerçek doğasını, Dukkha’nın kökenini, Dukkha’nın yok oluşunu ve Dukkha’nın yok oluşuna götüren yolu tam anlamıyla anlar.\n",
      "\n",
      "Bunu anlayan kişi, arzuların, varoluşun ve cehaletin köklerinden arınmış olur. Böylece özgürleştiğinde özgürlüğün bilincine varır.\n",
      "\n",
      "“Doğum sona erdi, kutsal yaşam tamamlandı, yapılacak işler yapıldı, bundan sonra böyle bir doğum yoktur” diye bilir.\n",
      "\n",
      "Bu sözleri söyleyen Kutlu Kişi’ydi. Keşişler söylediklerinden derin bir mutluluk duydular.\n",
      "\n",
      "Devadaha Sutta böylece tamamlandı.\n",
      "\n",
      "Completion Tokens: 3252\n",
      "Prompt Tokens: 116329\n"
     ]
    }
   ],
   "source": [
    "translated_text, completion_tokens, prompt_tokens = translate_text(llm, sutta_text, system_prompt)\n",
    "print(f\"Translated Text:\\n{translated_text}\\n\")\n",
    "print(f\"Completion Tokens: {completion_tokens}\")\n",
    "print(f\"Prompt Tokens: {prompt_tokens}\")"
   ]
  },
  {
   "cell_type": "code",
   "execution_count": null,
   "id": "64ee6255",
   "metadata": {},
   "outputs": [],
   "source": []
  },
  {
   "cell_type": "code",
   "execution_count": 14,
   "id": "db956dbd",
   "metadata": {},
   "outputs": [
    {
     "data": {
      "text/plain": [
       "'Dharma-Sutra Çeviri Asistanı – Talimat Dosyası\\n\\nBu GPT, Buddha Siddhārtha Gautama\\'nın öğretilerini Tripiṭaka\\'dan (özellikle Pali kanonundaki Majjhimanikāya, Saṁyuttanikāya, Aṅguttaranikāya ve Dīghanikāya) referans alarak Sutra-sutta çevirileri yapar.\\nKullanıcıya \\'hakikati arayan soylu dost\\' diye hitap eder ve sadece Buddha\\'nın zamanında var olan kavramlardan bahseder.\\nKendisine yüklenen veya sorulan Palice-İngilizce ve Palice-Türkçe sutraların çevirilerini, kütüphanesinde yüklü olan \"SN 56 Dharma Çarkını Döndürme Vaazı-Terminolojik Analiz\" belgesindeki terimleri, \"Türkçe Sutta Kitabı\"nda kullanılan terimleri, \"temel terimler sözlüğü\", \"detaylı palice sözlük\" ve \"Cem Şen Çeviri Üslubu Rehberi\" adlı belgelerde belirtilen üslup ve terminolojiye sadık kalarak yapar. Bulamadığı terimler olursa da terimlerin karşılıklarını internette arar.  \\nModern yorumlardan kaçınır; doğrudan Pali metinlerine ve onların Türkçe ya da İngilizce karşılıklarına sadık kalır. Çeviri yaptığı zaman, hem anlamı hem de bağlamı korur.\\nTürkçe çevirilerde yüklenen bu kaynaklarda geçen yerleşik kavramları sadakatle kullanır.\\nSutta çevirilerinde \"Evaṁ me sutaṁ\" ifadesini her zaman \"Duydum ki\" şeklinde çevirir.\\nSutta çevirilerinde \"Tathāgata\" terimi daima özgün haliyle, yani \"Tathāgata\" olarak bırakılır; “Gerçekleşmiş Olan” gibi modern çeviriler kullanılmaz.\\nSutta çevirilerinde \"Such is an ordinary person’s praise of the Realized One\" cümlesi her zaman \"Sıradan bir insanın Tathāgata\\'yı övmesi böyledir.\" şeklinde çevrilir.\\nÇevirilerde Cem Şen üslubuna uygun olarak orta uzunlukta, kurallı, sade ve akıcı Türkçe cümleler tercih edilir. Anlaşılırlık ön plandadır. Parantez ve dipnot kullanımı, Pali terimlerin açıklanması amacıyla uyumlu şekilde sürdürülür.\\nKarmaşık terimleri ilk geçtiklerinde açıklayıcı parantezle belirtir.\\nÇevirilerin paragraf yapısı ve cümle tonu doğal, anlam sadakati yüksek olacaktır.'"
      ]
     },
     "execution_count": 14,
     "metadata": {},
     "output_type": "execute_result"
    }
   ],
   "source": [
    "talimat"
   ]
  },
  {
   "cell_type": "code",
   "execution_count": 15,
   "id": "c80b7d46",
   "metadata": {},
   "outputs": [
    {
     "data": {
      "text/plain": [
       "'Cem Şen Çeviri Üslubu Rehberi\\n1. Cümle Yapısı ve Dil Kullanımı\\nCem Şen orta uzunlukta, kurallı ve sade cümleler kurar. Devrik yapılar kullanılmaz, dil Türkçenin doğal akışına uygundur.\\nKarmaşık gramer yapılarına yönelmez; her cümlede netlik ve anlamın doğrudan aktarımı esastır.\\nDuygusal ya da metaforik ifadelerden çok, açıklayıcı ve doğrudan anlatım tercih edilir.\\nMetin açık, sade ve doğal Türkçeyle çevrilmelidir.\\nGereksiz süsleme, şiirsellik, atmosfer yaratımı veya çağdaş yorumlardan kaçınılmalıdır.\\nCümleler kısa ve öz tutulmalı, anlam karmaşasından kaçınılmalıdır.\\nTürkçeye uygun fiil zamanları kullanılmalı, anlam kaymasına neden olunmamalıdır.\\n2. Terminolojik Sadakat\\n“Tathāgata”, “Nibbāna”, “dukkha” (ızdırap), “taṇhā” (arzu) gibi terimler daima tutarlılıkla ve sabit biçimde kullanılır. Bu sabitlik anlam derinliğini korur.\\nBudist kavramlar, açıklayıcı parantez veya doğrudan çevrilen Türkçeleştirme yöntemleriyle dengeli bir şekilde verilir.\\nÖrnek: “Orta Yol” (Majjhimā Paṭipadā) ve “Sekiz Basamaklı Soylu Yol” (Ariyo Aṭṭhaṅgiko Maggo) birebir, sabit karşılıklarla aktarılmıştır.\\nPāli sözdizimine sadakat korunur; ama Türkçede akıcı ve doğal bir yapı tercih edilir.\\nFiil zamanları bağlama uygun ve tutarlı kullanılmalıdır.\\nTekil-çoğul, eril-dişil gibi farklara dikkat edilmelidir.\\nPāli yapılar Türkçeye birebir aktarılmak yerine anlamca sadakat korunarak çevrilir.\\nPāli terimlerin tercih edilen Türkçe karşılıkları şunlardır:\\nPāli Terim\\tTürkçe Karşılık\\nBhagavā\\tKutlu Kişi (yalnızca Buddha için)\\nsugato\\töteye geçen\\ndukkha\\tıstırap\\nsāmaññaphala\\tkeşişliğin meyvesi\\nsāmaññaṃ\\tkeşiş\\nbhikkhu\\tizdeş\\narahant\\ttüm kirleri yok etmiş kişi\\npaññā\\tbilgelik\\nsati\\tfarkındalık\\nsamādhi\\tderin yoğunlaşma\\nvimutti\\tözgürleşme\\nkāma\\tduyusal hazlar\\nariyasacca\\tsoylu gerçek\\ntathāgata\\tKutlu Kişi (bağlama göre çevrilir)\\n3. Anlam Bütünlüğü ve Bağlamsal Sadakat\\nCem Şen çevirilerinde anlam bütünlüğü ve bağlamsal sadakat önceliklidir. Tathāgata’nın sözleri doğrudan ve özüne sadık şekilde sunulur.\\n“Doğru anlayış nedir?” gibi sorular yalnızca tanımsal olarak değil, öğreti bağlamında tüm ilişkili unsurlarla birlikte açıklanır.\\n4. Yapı ve Ritim\\nMetin, Budist öğretilerin doğal anlatım yapısına uygun ilerler. Örneğin, koşullu oluş zinciri (paṭiccasamuppāda) adım adım, düzenli dizilimle aktarılır.\\nYinelenen yapılar – örneğin “ön koşul olarak…” tekrarları – öğretisel vurgu ve meditasyonel ritmi yansıtacak biçimde korunur.\\n5. Didaktik Denge\\nCem Şen çevirisi hem öğretici hem akıcıdır. Okuyucuyu yormadan doğrudan hakikate işaret eden bir açıklık taşır.\\nModernize etmeden, antik dünyanın dilini Türkçeye aktaran ciddi ve özenli bir aktarım söz konusudur.\\n6. Dip Not Kullanımı\\nTürkçeye çevrilen her önemli Pāli terim için, metin içinde Türkçesi kullanılır, dipnotta Pāli terimi açıklanır.\\nÜst simgelerle işaretlenir: ¹, ², ³…\\nDipnotlar metin sonunda sade, numaralı şekilde sıralanır.\\nKalın yazı, italik veya biçimlendirme kullanılmaz.\\nÖrnek:\\nDuydum ki bir zamanlar Kutlu Kişi¹ Sāvatthī’de kalıyordu.\\n¹ Bhagavā: “Kutlu Kişi”; Buda’ya saygı unvanı.\\n7. Çevrilmeyecek Unsurlar\\nBhagavā sadece Buddha için çevrilir, diğer bağlamlarda olduğu gibi bırakılır.\\nYer adları (Jetavana, Sāvatthī vb.) çevrilmez.\\nManastır adları özgün halleriyle korunur.\\n8. Her çeviri sonunda temel terimler için alfabetik bir küçük sözlük yer alabilir.\\nBu sözlükte:\\nPāli terim\\nTürkçe karşılık\\nKısa açıklama\\nverilir.'"
      ]
     },
     "execution_count": 15,
     "metadata": {},
     "output_type": "execute_result"
    }
   ],
   "source": [
    "uslup"
   ]
  },
  {
   "cell_type": "code",
   "execution_count": null,
   "id": "bd93ff3a",
   "metadata": {},
   "outputs": [],
   "source": []
  }
 ],
 "metadata": {
  "kernelspec": {
   "display_name": ".venv (3.13.3)",
   "language": "python",
   "name": "python3"
  },
  "language_info": {
   "codemirror_mode": {
    "name": "ipython",
    "version": 3
   },
   "file_extension": ".py",
   "mimetype": "text/x-python",
   "name": "python",
   "nbconvert_exporter": "python",
   "pygments_lexer": "ipython3",
   "version": "3.13.3"
  }
 },
 "nbformat": 4,
 "nbformat_minor": 5
}
